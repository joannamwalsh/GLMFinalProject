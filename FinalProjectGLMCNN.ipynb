{
  "cells": [
    {
      "cell_type": "markdown",
      "metadata": {
        "id": "view-in-github",
        "colab_type": "text"
      },
      "source": [
        "<a href=\"https://colab.research.google.com/github/joannamwalsh/GLMFinalProject/blob/main/FinalProjectGLMCNN.ipynb\" target=\"_parent\"><img src=\"https://colab.research.google.com/assets/colab-badge.svg\" alt=\"Open In Colab\"/></a>"
      ]
    },
    {
      "cell_type": "code",
      "execution_count": null,
      "metadata": {
        "colab": {
          "base_uri": "https://localhost:8080/"
        },
        "id": "F4bHudGwiHSz",
        "outputId": "7cde5c20-3781-4e50-d925-3ca7b157c622"
      },
      "outputs": [
        {
          "name": "stderr",
          "output_type": "stream",
          "text": [
            "Installing packages into ‘/usr/local/lib/R/site-library’\n",
            "(as ‘lib’ is unspecified)\n",
            "\n",
            "also installing the dependencies ‘Rcpp’, ‘RcppTOML’, ‘here’, ‘png’, ‘config’, ‘reticulate’, ‘tfruns’, ‘tfautograph’, ‘zeallot’\n",
            "\n",
            "\n",
            "Installing package into ‘/usr/local/lib/R/site-library’\n",
            "(as ‘lib’ is unspecified)\n",
            "\n",
            "also installing the dependencies ‘listenv’, ‘parallelly’, ‘future’, ‘globals’, ‘shape’, ‘future.apply’, ‘numDeriv’, ‘progressr’, ‘SQUAREM’, ‘diagram’, ‘lava’, ‘prodlim’, ‘proxy’, ‘iterators’, ‘clock’, ‘gower’, ‘hardhat’, ‘ipred’, ‘timeDate’, ‘e1071’, ‘foreach’, ‘ModelMetrics’, ‘plyr’, ‘pROC’, ‘recipes’, ‘reshape2’\n",
            "\n",
            "\n",
            "Installing package into ‘/usr/local/lib/R/site-library’\n",
            "(as ‘lib’ is unspecified)\n",
            "\n"
          ]
        }
      ],
      "source": [
        "install.packages(c(\"tensorflow\",\"keras\"))\n",
        "install.packages(\"caret\")\n",
        "install.packages(\"varhandle\")"
      ]
    },
    {
      "cell_type": "code",
      "execution_count": null,
      "metadata": {
        "id": "Ni2D6xUTiWDj"
      },
      "outputs": [],
      "source": [
        "library(keras)\n",
        "library(tidyverse)\n",
        "library(caret)\n",
        "library(pROC)\n",
        "library(varhandle)"
      ]
    },
    {
      "cell_type": "code",
      "execution_count": null,
      "metadata": {
        "id": "egDRPwU9iWPa"
      },
      "outputs": [],
      "source": [
        "imagedata <- read.csv(\"/content/imagedata.csv\")\n",
        "names(imagedata) <- c(paste(\"pixel.\", seq(1, (ncol(imagedata) - 1), 1)), \"DX\")\n",
        "imagedata <- imagedata %>% mutate(DX = case_when(DX == \"Non Demented\" ~ 1, \n",
        "                                            DX == \"Very Mild Demented\" ~ 2, \n",
        "                                            DX == \"Mild Demented\" ~ 3, \n",
        "                                            DX == \"Moderate Demented\" ~ 4))\n",
        "                                    "
      ]
    },
    {
      "cell_type": "code",
      "execution_count": null,
      "metadata": {
        "id": "yUBrP-vEGAUQ"
      },
      "outputs": [],
      "source": [
        "imagedata$DX <- as.factor(imagedata$DX)"
      ]
    },
    {
      "cell_type": "code",
      "execution_count": null,
      "metadata": {
        "id": "Ii2ioB9ovfNf"
      },
      "outputs": [],
      "source": [
        "set.seed(1)\n",
        "sequence = seq(1, 6400, 1)\n",
        "folds <- list()\n",
        "for (i in 1:10) {\n",
        "folds[[i]] <- sample(size = 640, x = sequence, replace = FALSE)\n",
        "sequence = sequence[!(sequence %in% folds[[i]])]\n",
        "}\n",
        "\n"
      ]
    },
    {
      "cell_type": "code",
      "execution_count": null,
      "metadata": {
        "colab": {
          "background_save": true
        },
        "id": "ZobwhlqipVAC"
      },
      "outputs": [],
      "source": [
        "set.seed(1)\n",
        "loss <- c()\n",
        "accuracy <- c()\n",
        "mcroc <- c()\n",
        "actltpred <- c()\n",
        "actgtpred <- c()\n",
        "nonacc <- c()\n",
        "verymildacc <- c()\n",
        "mildacc <- c()\n",
        "modacc <- c()\n",
        "dementiaacc <- c()\n",
        "\n",
        "for (i in 1:10) {\n",
        "  train <- imagedata[-folds[[i]], ]\n",
        "  test <- imagedata[folds[[i]], ]\n",
        "  y <- train$DX\n",
        "  y_mat <- to_categorical(y)[, 2:5]\n",
        "  X <- as.matrix(train[, -ncol(train)])\n",
        "  train_means <- apply(X, 2, mean)\n",
        "  train_sd <- sd(as.vector(X))\n",
        "  X <- sweep(X, 2L, train_means)/train_sd\n",
        "\n",
        "  y_test <- test$DX\n",
        "  y_mat_test <- to_categorical(y_test)[, 2:5]\n",
        "  X_test <- as.matrix(test[, -ncol(test)])\n",
        "  X_test <- sweep(X_test, 2L, train_means)/train_sd\n",
        "\n",
        "  X <- array_reshape(X,c(nrow(X),43,43, 1))\n",
        "  X_test <- array_reshape(X_test,c(nrow(X_test),43,43, 1))\n",
        "  model <- keras_model_sequential()  %>% # Start with hidden 2D convolutional layer being fed 43x43 pixel images\n",
        "  layer_conv_2d(filters = 43, kernel_size = c(3,3), input_shape = c(43, 43, 1), activation = \"relu\") %>%\n",
        "  layer_max_pooling_2d(pool_size = c(2,2)) %>% \n",
        "  layer_conv_2d(filters = 86, kernel_size = c(3,3),activation = \"relu\") %>%\n",
        "  layer_max_pooling_2d(pool_size = c(2,2)) %>%\n",
        "  layer_conv_2d(filters = 172, kernel_size = c(3,3),activation = \"relu\") %>%\n",
        "  layer_max_pooling_2d(pool_size = c(2,2)) %>%\n",
        "  layer_flatten() %>%\n",
        "  layer_dropout(rate = 0.5) %>%\n",
        "  layer_dense(units = 344, activation = \"relu\") %>%\n",
        "  layer_dense(units = 4, activation = \"softmax\")\n",
        "\n",
        "  model %>% compile(\n",
        "  loss = \"categorical_crossentropy\",\n",
        "  optimizer = \"adam\",\n",
        "  metrics= \"accuracy\")\n",
        "  \n",
        "  history <- model %>% fit(x = X, y = y_mat, epochs = 20, validation_data = list(X_test, y_mat_test))\n",
        "  loss <- c(loss, evaluate(model, X_test, y_mat_test)[1])\n",
        "  accuracy <- c(accuracy, evaluate(model, X_test, y_mat_test)[2])\n",
        "\n",
        "  predictions <- predict(model, X_test)\n",
        "  colnames(predictions) <- c(\"1\", \"2\", \"3\", \"4\")\n",
        "  mcroc <- c(mcroc, multiclass.roc(test$DX, predictions)$auc)\n",
        "  predclasses <- as.vector(predict(model, X_test) %>% k_argmax()) + 1\n",
        "\n",
        "  test$DXunf <- unfactor(test$DX)\n",
        "  actltpred <- c(actltpred, sum(test$DXunf < predclasses)/length(predclasses))\n",
        "  actgtpred <- c(actgtpred, sum(test$DXunf > predclasses)/length(predclasses))\n",
        "  nonacc <- c(nonacc, sum(test$DXunf == 1 & predclasses == 1)/sum(test$DXunf == 1))\n",
        "  verymildacc <- c(verymildacc, sum(test$DXunf == 2 & predclasses == 2)/sum(test$DXunf == 2))\n",
        "  mildacc <- c(mildacc, sum(test$DXunf == 3 & predclasses == 3)/sum(test$DXunf == 3))\n",
        "  modacc <- c(modacc, sum(test$DXunf == 4 & predclasses == 4)/sum(test$DXunf == 4))\n",
        "  dementiaacc <- c(dementiaacc, sum(test$DXunf != 1 & predclasses != 1)/sum(test$DXunf != 1))\n",
        "}"
      ]
    },
    {
      "cell_type": "code",
      "execution_count": null,
      "metadata": {
        "id": "5M0lxPoJK6Cx"
      },
      "outputs": [],
      "source": [
        "results <- as.data.frame(cbind(unname(loss), unname(accuracy), mcroc, actltpred, actgtpred, nonacc, verymildacc, mildacc, modacc, dementiaacc))\n",
        "names(results) <- c(\"loss\", \"accuracy\", \"mcroc\", \"actltpred\", \"actgtpred\", \"nonacc\", \"verymildacc\", \"mildacc\", \"modacc\", \"dementiaacc\")\n",
        "write.csv(results, file = \"results.csv\")"
      ]
    },
    {
      "cell_type": "code",
      "execution_count": null,
      "metadata": {
        "colab": {
          "base_uri": "https://localhost:8080/",
          "height": 286
        },
        "id": "_PNNUyVnlvY5",
        "outputId": "af7d979c-7469-4761-9544-0325c0bafddb"
      },
      "outputs": [
        {
          "data": {
            "text/html": [
              "<table class=\"dataframe\">\n",
              "<caption>A data.frame: 6 × 10</caption>\n",
              "<thead>\n",
              "\t<tr><th></th><th scope=col>loss</th><th scope=col>accuracy</th><th scope=col>mcroc</th><th scope=col>actltpred</th><th scope=col>actgtpred</th><th scope=col>nonacc</th><th scope=col>verymildacc</th><th scope=col>mildacc</th><th scope=col>modacc</th><th scope=col>dementiaacc</th></tr>\n",
              "\t<tr><th></th><th scope=col>&lt;dbl&gt;</th><th scope=col>&lt;dbl&gt;</th><th scope=col>&lt;dbl&gt;</th><th scope=col>&lt;dbl&gt;</th><th scope=col>&lt;dbl&gt;</th><th scope=col>&lt;dbl&gt;</th><th scope=col>&lt;dbl&gt;</th><th scope=col>&lt;dbl&gt;</th><th scope=col>&lt;dbl&gt;</th><th scope=col>&lt;dbl&gt;</th></tr>\n",
              "</thead>\n",
              "<tbody>\n",
              "\t<tr><th scope=row>1</th><td>0.06128575</td><td>0.9781250</td><td>0.9991178</td><td>0.0093750</td><td>0.0125000</td><td>0.9771987</td><td>0.9737991</td><td>0.9894737</td><td>1.0000000</td><td>0.9737991</td></tr>\n",
              "\t<tr><th scope=row>2</th><td>0.08360074</td><td>0.9718750</td><td>0.9978724</td><td>0.0187500</td><td>0.0093750</td><td>0.9933775</td><td>0.9601594</td><td>0.9285714</td><td>1.0000000</td><td>0.9601594</td></tr>\n",
              "\t<tr><th scope=row>3</th><td>0.07142700</td><td>0.9796875</td><td>0.9967566</td><td>0.0046875</td><td>0.0156250</td><td>0.9828571</td><td>0.9716981</td><td>0.9857143</td><td>1.0000000</td><td>0.9716981</td></tr>\n",
              "\t<tr><th scope=row>4</th><td>0.08993264</td><td>0.9734375</td><td>0.9969590</td><td>0.0109375</td><td>0.0156250</td><td>0.9757576</td><td>0.9672897</td><td>0.9777778</td><td>1.0000000</td><td>0.9672897</td></tr>\n",
              "\t<tr><th scope=row>5</th><td>0.08964975</td><td>0.9671875</td><td>0.9987392</td><td>0.0062500</td><td>0.0265625</td><td>0.9670659</td><td>0.9626168</td><td>0.9883721</td><td>0.8333333</td><td>0.9626168</td></tr>\n",
              "\t<tr><th scope=row>6</th><td>0.06698625</td><td>0.9781250</td><td>0.9980341</td><td>0.0046875</td><td>0.0171875</td><td>0.9713376</td><td>0.9822222</td><td>0.9893617</td><td>1.0000000</td><td>0.9822222</td></tr>\n",
              "</tbody>\n",
              "</table>\n"
            ],
            "text/latex": "A data.frame: 6 × 10\n\\begin{tabular}{r|llllllllll}\n  & loss & accuracy & mcroc & actltpred & actgtpred & nonacc & verymildacc & mildacc & modacc & dementiaacc\\\\\n  & <dbl> & <dbl> & <dbl> & <dbl> & <dbl> & <dbl> & <dbl> & <dbl> & <dbl> & <dbl>\\\\\n\\hline\n\t1 & 0.06128575 & 0.9781250 & 0.9991178 & 0.0093750 & 0.0125000 & 0.9771987 & 0.9737991 & 0.9894737 & 1.0000000 & 0.9737991\\\\\n\t2 & 0.08360074 & 0.9718750 & 0.9978724 & 0.0187500 & 0.0093750 & 0.9933775 & 0.9601594 & 0.9285714 & 1.0000000 & 0.9601594\\\\\n\t3 & 0.07142700 & 0.9796875 & 0.9967566 & 0.0046875 & 0.0156250 & 0.9828571 & 0.9716981 & 0.9857143 & 1.0000000 & 0.9716981\\\\\n\t4 & 0.08993264 & 0.9734375 & 0.9969590 & 0.0109375 & 0.0156250 & 0.9757576 & 0.9672897 & 0.9777778 & 1.0000000 & 0.9672897\\\\\n\t5 & 0.08964975 & 0.9671875 & 0.9987392 & 0.0062500 & 0.0265625 & 0.9670659 & 0.9626168 & 0.9883721 & 0.8333333 & 0.9626168\\\\\n\t6 & 0.06698625 & 0.9781250 & 0.9980341 & 0.0046875 & 0.0171875 & 0.9713376 & 0.9822222 & 0.9893617 & 1.0000000 & 0.9822222\\\\\n\\end{tabular}\n",
            "text/markdown": "\nA data.frame: 6 × 10\n\n| <!--/--> | loss &lt;dbl&gt; | accuracy &lt;dbl&gt; | mcroc &lt;dbl&gt; | actltpred &lt;dbl&gt; | actgtpred &lt;dbl&gt; | nonacc &lt;dbl&gt; | verymildacc &lt;dbl&gt; | mildacc &lt;dbl&gt; | modacc &lt;dbl&gt; | dementiaacc &lt;dbl&gt; |\n|---|---|---|---|---|---|---|---|---|---|---|\n| 1 | 0.06128575 | 0.9781250 | 0.9991178 | 0.0093750 | 0.0125000 | 0.9771987 | 0.9737991 | 0.9894737 | 1.0000000 | 0.9737991 |\n| 2 | 0.08360074 | 0.9718750 | 0.9978724 | 0.0187500 | 0.0093750 | 0.9933775 | 0.9601594 | 0.9285714 | 1.0000000 | 0.9601594 |\n| 3 | 0.07142700 | 0.9796875 | 0.9967566 | 0.0046875 | 0.0156250 | 0.9828571 | 0.9716981 | 0.9857143 | 1.0000000 | 0.9716981 |\n| 4 | 0.08993264 | 0.9734375 | 0.9969590 | 0.0109375 | 0.0156250 | 0.9757576 | 0.9672897 | 0.9777778 | 1.0000000 | 0.9672897 |\n| 5 | 0.08964975 | 0.9671875 | 0.9987392 | 0.0062500 | 0.0265625 | 0.9670659 | 0.9626168 | 0.9883721 | 0.8333333 | 0.9626168 |\n| 6 | 0.06698625 | 0.9781250 | 0.9980341 | 0.0046875 | 0.0171875 | 0.9713376 | 0.9822222 | 0.9893617 | 1.0000000 | 0.9822222 |\n\n",
            "text/plain": [
              "  loss       accuracy  mcroc     actltpred actgtpred nonacc    verymildacc\n",
              "1 0.06128575 0.9781250 0.9991178 0.0093750 0.0125000 0.9771987 0.9737991  \n",
              "2 0.08360074 0.9718750 0.9978724 0.0187500 0.0093750 0.9933775 0.9601594  \n",
              "3 0.07142700 0.9796875 0.9967566 0.0046875 0.0156250 0.9828571 0.9716981  \n",
              "4 0.08993264 0.9734375 0.9969590 0.0109375 0.0156250 0.9757576 0.9672897  \n",
              "5 0.08964975 0.9671875 0.9987392 0.0062500 0.0265625 0.9670659 0.9626168  \n",
              "6 0.06698625 0.9781250 0.9980341 0.0046875 0.0171875 0.9713376 0.9822222  \n",
              "  mildacc   modacc    dementiaacc\n",
              "1 0.9894737 1.0000000 0.9737991  \n",
              "2 0.9285714 1.0000000 0.9601594  \n",
              "3 0.9857143 1.0000000 0.9716981  \n",
              "4 0.9777778 1.0000000 0.9672897  \n",
              "5 0.9883721 0.8333333 0.9626168  \n",
              "6 0.9893617 1.0000000 0.9822222  "
            ]
          },
          "metadata": {},
          "output_type": "display_data"
        }
      ],
      "source": [
        "head(results)"
      ]
    },
    {
      "cell_type": "code",
      "execution_count": null,
      "metadata": {
        "colab": {
          "base_uri": "https://localhost:8080/"
        },
        "id": "b72FQyyXl3MG",
        "outputId": "009ae303-b89a-4826-bba1-1b5632a8716b"
      },
      "outputs": [
        {
          "name": "stdout",
          "output_type": "stream",
          "text": [
            "Model: \"sequential\"\n",
            "________________________________________________________________________________\n",
            " Layer (type)                       Output Shape                    Param #     \n",
            "================================================================================\n",
            " conv2d_2 (Conv2D)                  (None, 41, 41, 43)              430         \n",
            " max_pooling2d_2 (MaxPooling2D)     (None, 20, 20, 43)              0           \n",
            " conv2d_1 (Conv2D)                  (None, 18, 18, 86)              33368       \n",
            " max_pooling2d_1 (MaxPooling2D)     (None, 9, 9, 86)                0           \n",
            " conv2d (Conv2D)                    (None, 7, 7, 172)               133300      \n",
            " max_pooling2d (MaxPooling2D)       (None, 3, 3, 172)               0           \n",
            " flatten (Flatten)                  (None, 1548)                    0           \n",
            " dropout (Dropout)                  (None, 1548)                    0           \n",
            " dense_1 (Dense)                    (None, 344)                     532856      \n",
            " dense (Dense)                      (None, 4)                       1380        \n",
            "================================================================================\n",
            "Total params: 701,334\n",
            "Trainable params: 701,334\n",
            "Non-trainable params: 0\n",
            "________________________________________________________________________________\n"
          ]
        }
      ],
      "source": [
        "set.seed(1)\n",
        "i <- 1\n",
        "  train <- imagedata[-folds[[i]], ]\n",
        "  test <- imagedata[folds[[i]], ]\n",
        "  y <- train$DX\n",
        "  y_mat <- to_categorical(y)[, 2:5]\n",
        "  X <- as.matrix(train[, -ncol(train)])\n",
        "  train_means <- apply(X, 2, mean)\n",
        "  train_sd <- sd(as.vector(X))\n",
        "  X <- sweep(X, 2L, train_means)/train_sd\n",
        "\n",
        "  y_test <- test$DX\n",
        "  y_mat_test <- to_categorical(y_test)[, 2:5]\n",
        "  X_test <- as.matrix(test[, -ncol(test)])\n",
        "  X_test <- sweep(X_test, 2L, train_means)/train_sd\n",
        "\n",
        "  X <- array_reshape(X,c(nrow(X),43,43, 1))\n",
        "  X_test <- array_reshape(X_test,c(nrow(X_test),43,43, 1))\n",
        "  model <- keras_model_sequential()  %>% # Start with hidden 2D convolutional layer being fed 43x43 pixel images\n",
        "  layer_conv_2d(filters = 43, kernel_size = c(3,3), input_shape = c(43, 43, 1), activation = \"relu\") %>%\n",
        "  layer_max_pooling_2d(pool_size = c(2,2)) %>% \n",
        "  layer_conv_2d(filters = 86, kernel_size = c(3,3),activation = \"relu\") %>%\n",
        "  layer_max_pooling_2d(pool_size = c(2,2)) %>%\n",
        "  layer_conv_2d(filters = 172, kernel_size = c(3,3),activation = \"relu\") %>%\n",
        "  layer_max_pooling_2d(pool_size = c(2,2)) %>%\n",
        "  layer_flatten() %>%\n",
        "  layer_dropout(rate = 0.5) %>%\n",
        "  layer_dense(units = 344, activation = \"relu\") %>%\n",
        "  layer_dense(units = 4, activation = \"softmax\")\n",
        "\n",
        "  model %>% compile(\n",
        "  loss = \"categorical_crossentropy\",\n",
        "  optimizer = \"adam\",\n",
        "  metrics= \"accuracy\")\n",
        "  summary(model)\n",
        "\n",
        "  history <- model %>% fit(x = X, y = y_mat, epochs = 20, validation_data = list(X_test, y_mat_test))\n",
        " \n",
        "  "
      ]
    },
    {
      "cell_type": "code",
      "execution_count": null,
      "metadata": {
        "colab": {
          "base_uri": "https://localhost:8080/",
          "height": 437
        },
        "id": "kRghruVEmRlE",
        "outputId": "8b065911-95d4-47f8-e2e6-da364c5c4a1d"
      },
      "outputs": [
        {
          "data": {
            "image/png": "[encoded data removed]",
            "text/plain": [
              "plot without title"
            ]
          },
          "metadata": {
            "image/png": {
              "height": 420,
              "width": 420
            }
          },
          "output_type": "display_data"
        }
      ],
      "source": [
        " plot(history)"
      ]
    },
    {
      "cell_type": "code",
      "execution_count": null,
      "metadata": {
        "id": "pe9Kzi06mTEv"
      },
      "outputs": [],
      "source": [
        "loss <- evaluate(model, X_test, y_mat_test)[1]\n",
        "accuracy <- evaluate(model, X_test, y_mat_test)[2]\n",
        "\n",
        "predictions <- predict(model, X_test)\n",
        "colnames(predictions) <- c(\"1\", \"2\", \"3\", \"4\")\n",
        "mcroc <- multiclass.roc(test$DX, predictions)$auc\n",
        "predclasses <- as.vector(predict(model, X_test) %>% k_argmax()) + 1\n",
        "\n",
        "test$DXunf <- unfactor(test$DX)\n",
        "actltpred <- sum(test$DXunf < predclasses)/length(predclasses)\n",
        "actgtpred <- sum(test$DXunf > predclasses)/length(predclasses)\n",
        "nonacc <- sum(test$DXunf == 1 & predclasses == 1)/length(predclasses[predclasses == 1])\n",
        "verymildacc <- sum(test$DXunf == 2 & predclasses == 2)/length(predclasses[predclasses == 2])\n",
        "mildacc <- sum(test$DXunf == 3 & predclasses == 3)/length(predclasses[predclasses == 3])\n",
        "modacc <- sum(test$DXunf == 4 & predclasses == 4)/length(predclasses[predclasses == 4])\n",
        "dementiaacc <- sum(test$DXunf != 1 & predclasses != 1)/length(predclasses[predclasses != 1])"
      ]
    },
    {
      "cell_type": "code",
      "execution_count": null,
      "metadata": {
        "colab": {
          "base_uri": "https://localhost:8080/",
          "height": 191
        },
        "id": "gX0S0u8jmTyM",
        "outputId": "d7678fe0-cdec-4d82-b429-873e0f94a38c"
      },
      "outputs": [
        {
          "data": {
            "text/html": [
              "<strong>loss:</strong> 0.0815223455429077"
            ],
            "text/latex": "\\textbf{loss:} 0.0815223455429077",
            "text/markdown": "**loss:** 0.0815223455429077",
            "text/plain": [
              "      loss \n",
              "0.08152235 "
            ]
          },
          "metadata": {},
          "output_type": "display_data"
        },
        {
          "data": {
            "text/html": [
              "<strong>accuracy:</strong> 0.971875011920929"
            ],
            "text/latex": "\\textbf{accuracy:} 0.971875011920929",
            "text/markdown": "**accuracy:** 0.971875011920929",
            "text/plain": [
              "accuracy \n",
              "0.971875 "
            ]
          },
          "metadata": {},
          "output_type": "display_data"
        },
        {
          "data": {
            "text/html": [
              "0.998808666448879"
            ],
            "text/latex": "0.998808666448879",
            "text/markdown": "0.998808666448879",
            "text/plain": [
              "Multi-class area under the curve: 0.9988"
            ]
          },
          "metadata": {},
          "output_type": "display_data"
        },
        {
          "data": {
            "text/html": [
              "0.0125"
            ],
            "text/latex": "0.0125",
            "text/markdown": "0.0125",
            "text/plain": [
              "[1] 0.0125"
            ]
          },
          "metadata": {},
          "output_type": "display_data"
        },
        {
          "data": {
            "text/html": [
              "0.015625"
            ],
            "text/latex": "0.015625",
            "text/markdown": "0.015625",
            "text/plain": [
              "[1] 0.015625"
            ]
          },
          "metadata": {},
          "output_type": "display_data"
        },
        {
          "data": {
            "text/html": [
              "0.977049180327869"
            ],
            "text/latex": "0.977049180327869",
            "text/markdown": "0.977049180327869",
            "text/plain": [
              "[1] 0.9770492"
            ]
          },
          "metadata": {},
          "output_type": "display_data"
        },
        {
          "data": {
            "text/html": [
              "0.957081545064378"
            ],
            "text/latex": "0.957081545064378",
            "text/markdown": "0.957081545064378",
            "text/plain": [
              "[1] 0.9570815"
            ]
          },
          "metadata": {},
          "output_type": "display_data"
        },
        {
          "data": {
            "text/html": [
              "0.989247311827957"
            ],
            "text/latex": "0.989247311827957",
            "text/markdown": "0.989247311827957",
            "text/plain": [
              "[1] 0.9892473"
            ]
          },
          "metadata": {},
          "output_type": "display_data"
        },
        {
          "data": {
            "text/html": [
              "1"
            ],
            "text/latex": "1",
            "text/markdown": "1",
            "text/plain": [
              "[1] 1"
            ]
          },
          "metadata": {},
          "output_type": "display_data"
        },
        {
          "data": {
            "text/html": [
              "0.97910447761194"
            ],
            "text/latex": "0.97910447761194",
            "text/markdown": "0.97910447761194",
            "text/plain": [
              "[1] 0.9791045"
            ]
          },
          "metadata": {},
          "output_type": "display_data"
        }
      ],
      "source": [
        "loss\n",
        "accuracy\n",
        "mcroc\n",
        "actltpred\n",
        "actgtpred\n",
        "nonacc\n",
        "verymildacc\n",
        "mildacc\n",
        "modacc\n",
        "dementiaacc"
      ]
    },
    {
      "cell_type": "code",
      "execution_count": null,
      "metadata": {
        "id": "19GZRMEHXGl5"
      },
      "outputs": [],
      "source": []
    },
    {
      "cell_type": "code",
      "execution_count": null,
      "metadata": {
        "colab": {
          "base_uri": "https://localhost:8080/",
          "height": 255
        },
        "id": "_BWv70bspNuH",
        "outputId": "b772cbb3-067f-402f-9d89-019982983df4"
      },
      "outputs": [
        {
          "data": {
            "text/html": [
              "<table class=\"dataframe\">\n",
              "<caption>A matrix: 6 × 4 of type dbl</caption>\n",
              "<thead>\n",
              "\t<tr><th scope=col>1</th><th scope=col>2</th><th scope=col>3</th><th scope=col>4</th></tr>\n",
              "</thead>\n",
              "<tbody>\n",
              "\t<tr><td>0.0000106793</td><td>9.999892e-01</td><td>1.299324e-10</td><td>1.145616e-09</td></tr>\n",
              "\t<tr><td>0.9983456135</td><td>2.835097e-05</td><td>1.626045e-03</td><td>3.321264e-08</td></tr>\n",
              "\t<tr><td>0.0930195153</td><td>9.068483e-01</td><td>1.310130e-04</td><td>1.198270e-06</td></tr>\n",
              "\t<tr><td>0.9999998212</td><td>1.010958e-07</td><td>7.095424e-14</td><td>1.063805e-14</td></tr>\n",
              "\t<tr><td>0.0058483277</td><td>9.940574e-01</td><td>3.429504e-05</td><td>5.994815e-05</td></tr>\n",
              "\t<tr><td>0.9999881387</td><td>1.181562e-05</td><td>1.050995e-11</td><td>8.328036e-13</td></tr>\n",
              "</tbody>\n",
              "</table>\n"
            ],
            "text/latex": "A matrix: 6 × 4 of type dbl\n\\begin{tabular}{llll}\n 1 & 2 & 3 & 4\\\\\n\\hline\n\t 0.0000106793 & 9.999892e-01 & 1.299324e-10 & 1.145616e-09\\\\\n\t 0.9983456135 & 2.835097e-05 & 1.626045e-03 & 3.321264e-08\\\\\n\t 0.0930195153 & 9.068483e-01 & 1.310130e-04 & 1.198270e-06\\\\\n\t 0.9999998212 & 1.010958e-07 & 7.095424e-14 & 1.063805e-14\\\\\n\t 0.0058483277 & 9.940574e-01 & 3.429504e-05 & 5.994815e-05\\\\\n\t 0.9999881387 & 1.181562e-05 & 1.050995e-11 & 8.328036e-13\\\\\n\\end{tabular}\n",
            "text/markdown": "\nA matrix: 6 × 4 of type dbl\n\n| 1 | 2 | 3 | 4 |\n|---|---|---|---|\n| 0.0000106793 | 9.999892e-01 | 1.299324e-10 | 1.145616e-09 |\n| 0.9983456135 | 2.835097e-05 | 1.626045e-03 | 3.321264e-08 |\n| 0.0930195153 | 9.068483e-01 | 1.310130e-04 | 1.198270e-06 |\n| 0.9999998212 | 1.010958e-07 | 7.095424e-14 | 1.063805e-14 |\n| 0.0058483277 | 9.940574e-01 | 3.429504e-05 | 5.994815e-05 |\n| 0.9999881387 | 1.181562e-05 | 1.050995e-11 | 8.328036e-13 |\n\n",
            "text/plain": [
              "     1            2            3            4           \n",
              "[1,] 0.0000106793 9.999892e-01 1.299324e-10 1.145616e-09\n",
              "[2,] 0.9983456135 2.835097e-05 1.626045e-03 3.321264e-08\n",
              "[3,] 0.0930195153 9.068483e-01 1.310130e-04 1.198270e-06\n",
              "[4,] 0.9999998212 1.010958e-07 7.095424e-14 1.063805e-14\n",
              "[5,] 0.0058483277 9.940574e-01 3.429504e-05 5.994815e-05\n",
              "[6,] 0.9999881387 1.181562e-05 1.050995e-11 8.328036e-13"
            ]
          },
          "metadata": {},
          "output_type": "display_data"
        }
      ],
      "source": [
        "head(predictions)"
      ]
    },
    {
      "cell_type": "code",
      "execution_count": null,
      "metadata": {
        "colab": {
          "base_uri": "https://localhost:8080/",
          "height": 240
        },
        "id": "DZTMG-UmpTJ7",
        "outputId": "6428925b-bf65-449c-bd73-cf25f17889de"
      },
      "outputs": [
        {
          "data": {
            "text/html": [
              "<table class=\"dataframe\">\n",
              "<caption>A matrix: 6 × 4 of type dbl</caption>\n",
              "<tbody>\n",
              "\t<tr><td>0</td><td>1</td><td>0</td><td>0</td></tr>\n",
              "\t<tr><td>0</td><td>1</td><td>0</td><td>0</td></tr>\n",
              "\t<tr><td>0</td><td>1</td><td>0</td><td>0</td></tr>\n",
              "\t<tr><td>0</td><td>1</td><td>0</td><td>0</td></tr>\n",
              "\t<tr><td>0</td><td>1</td><td>0</td><td>0</td></tr>\n",
              "\t<tr><td>0</td><td>1</td><td>0</td><td>0</td></tr>\n",
              "</tbody>\n",
              "</table>\n"
            ],
            "text/latex": "A matrix: 6 × 4 of type dbl\n\\begin{tabular}{llll}\n\t 0 & 1 & 0 & 0\\\\\n\t 0 & 1 & 0 & 0\\\\\n\t 0 & 1 & 0 & 0\\\\\n\t 0 & 1 & 0 & 0\\\\\n\t 0 & 1 & 0 & 0\\\\\n\t 0 & 1 & 0 & 0\\\\\n\\end{tabular}\n",
            "text/markdown": "\nA matrix: 6 × 4 of type dbl\n\n| 0 | 1 | 0 | 0 |\n| 0 | 1 | 0 | 0 |\n| 0 | 1 | 0 | 0 |\n| 0 | 1 | 0 | 0 |\n| 0 | 1 | 0 | 0 |\n| 0 | 1 | 0 | 0 |\n\n",
            "text/plain": [
              "     [,1] [,2] [,3] [,4]\n",
              "[1,] 0    1    0    0   \n",
              "[2,] 0    1    0    0   \n",
              "[3,] 0    1    0    0   \n",
              "[4,] 0    1    0    0   \n",
              "[5,] 0    1    0    0   \n",
              "[6,] 0    1    0    0   "
            ]
          },
          "metadata": {},
          "output_type": "display_data"
        }
      ],
      "source": [
        "head(y_mat)"
      ]
    },
    {
      "cell_type": "code",
      "execution_count": null,
      "metadata": {
        "id": "afKeDMZfpVoG"
      },
      "outputs": [],
      "source": [
        "cross_entropy <- function(y_true, y_pred) {\n",
        "  n <- nrow(y_true)\n",
        "  K <- ncol(y_pred)\n",
        "  x <- 0\n",
        "  for (i in 1:n) {\n",
        "    for (k in 1:K) {\n",
        "      x <- x - y_true[i, k] * log(y_pred[i, k])\n",
        "    }\n",
        "  }\n",
        "  x/n\n",
        "}"
      ]
    },
    {
      "cell_type": "code",
      "execution_count": null,
      "metadata": {
        "colab": {
          "base_uri": "https://localhost:8080/",
          "height": 34
        },
        "id": "kXll-uJopZ-w",
        "outputId": "84dd42fc-6942-4804-f318-7809b4fe3aed"
      },
      "outputs": [
        {
          "data": {
            "text/html": [
              "<strong>1:</strong> 0.105510688327742"
            ],
            "text/latex": "\\textbf{1:} 0.105510688327742",
            "text/markdown": "**1:** 0.105510688327742",
            "text/plain": [
              "        1 \n",
              "0.1055107 "
            ]
          },
          "metadata": {},
          "output_type": "display_data"
        }
      ],
      "source": [
        "cross_entropy(y_mat_test, predictions)"
      ]
    }
  ],
  "metadata": {
    "colab": {
      "provenance": [],
      "authorship_tag": "ABX9TyNAb9EM0pfMaMxKsUejGLzu",
      "include_colab_link": true
    },
    "kernelspec": {
      "display_name": "R",
      "name": "ir"
    },
    "language_info": {
      "name": "R"
    }
  },
  "nbformat": 4,
  "nbformat_minor": 0
}